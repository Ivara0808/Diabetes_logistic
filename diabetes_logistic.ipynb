{
 "cells": [
  {
   "cell_type": "code",
   "execution_count": 2,
   "metadata": {},
   "outputs": [],
   "source": [
    "import pandas as pd\n",
    "import numpy as np\n",
    "import matplotlib.pyplot as plt"
   ]
  },
  {
   "cell_type": "code",
   "execution_count": 3,
   "metadata": {},
   "outputs": [],
   "source": [
    "data = pd.read_csv('diabetes.csv')\n",
    "\n",
    "#training data (80%)\n",
    "train = data.sample(frac = 0.8)\n",
    "X_train = train.iloc[:,:8]\n",
    "y_train = train.iloc[:,8]\n",
    "\n",
    "#testing data (20%)\n",
    "test = data.loc[data.index.difference(train.index)]\n",
    "X_test = test.iloc[:,:8]\n",
    "y_test = test.iloc[:,8]"
   ]
  },
  {
   "cell_type": "code",
   "execution_count": 12,
   "metadata": {},
   "outputs": [],
   "source": [
    "class LogReg:\n",
    "    def __init__(self,lr,epochs):\n",
    "        self.lr = lr;\n",
    "        self.epochs = epochs\n",
    "        self.teetha = None \n",
    "        self.bias = None\n",
    "        self.loss = np.zeros(epochs//100 + 1)\n",
    "        self.acc = np.zeros(epochs//100 + 1)\n",
    "        \n",
    "    #fitting for the LR model\n",
    "    def fit(self,X,y):\n",
    "        samples, features = X.shape\n",
    "        self.teetha = np.zeros(features)\n",
    "        self.bias = 0\n",
    "\n",
    "        #gradient descent method\n",
    "        for i in range(self.epochs+1):\n",
    "            #logistic \n",
    "            linear = (X @ self.teetha) + self.bias\n",
    "            y_pred = self._sigmoid(linear)\n",
    "            \n",
    "            #loss rates\n",
    "            dt = (1/samples) * (X.T @ (y_pred-y))\n",
    "            db = (1/samples) * np.sum(y_pred-y)\n",
    "            \n",
    "            #updating values\n",
    "            self.teetha -= self.lr * dt\n",
    "            self.bias -= self.lr * db\n",
    "            \n",
    "            #printing training after every 100 epochs\n",
    "            if  i%100 == 0:\n",
    "                \n",
    "                #loss\n",
    "                self.loss[i//100]  = (1/samples)*(((-y).T @ np.log(y_pred))-((1-y).T @ np.log(1-y_pred)))\n",
    "                \n",
    "                #accuracy\n",
    "                self.acc[i//100] = (1/samples) * np.sum(abs(self.prediction(X)==y))\n",
    "                \n",
    "                #\n",
    "                print('Epoch',i,': (Loss: ',self.loss[i//100],',Correctness: ',format(self.acc[i//100],\"0.3f\"),')')\n",
    "        \n",
    "        \n",
    "    #prediction\n",
    "    def prediction(self,X):\n",
    "        linear = (X @ self.teetha)+self.bias\n",
    "        y_pred = self._sigmoid(linear)\n",
    "        y_binary = [1 if i>0.5 else 0 for i in y_pred]\n",
    "        \n",
    "        return y_binary\n",
    "    \n",
    "    #to \n",
    "    def _sigmoid(self, x):\n",
    "        return 1/(1+np.exp(-x))"
   ]
  },
  {
   "cell_type": "code",
   "execution_count": 13,
   "metadata": {},
   "outputs": [
    {
     "name": "stdout",
     "output_type": "stream",
     "text": [
      "Epoch 0 : (Loss:  0.6931471805599453 ,Correctness:  0.658 )\n",
      "Epoch 100 : (Loss:  0.6260018099158575 ,Correctness:  0.671 )\n",
      "Epoch 200 : (Loss:  0.6205497932420646 ,Correctness:  0.684 )\n",
      "Epoch 300 : (Loss:  0.619192574602376 ,Correctness:  0.689 )\n",
      "Epoch 400 : (Loss:  0.6185464704090977 ,Correctness:  0.686 )\n",
      "Epoch 500 : (Loss:  0.6180891413185083 ,Correctness:  0.684 )\n",
      "Epoch 600 : (Loss:  0.6177115738883618 ,Correctness:  0.684 )\n",
      "Epoch 700 : (Loss:  0.6173806711620363 ,Correctness:  0.684 )\n",
      "Epoch 800 : (Loss:  0.617081795844262 ,Correctness:  0.684 )\n",
      "Epoch 900 : (Loss:  0.6168067201422041 ,Correctness:  0.686 )\n",
      "Epoch 1000 : (Loss:  0.6165502370324062 ,Correctness:  0.687 )\n",
      "Epoch 1100 : (Loss:  0.6163088372405157 ,Correctness:  0.689 )\n",
      "Epoch 1200 : (Loss:  0.6160800539366349 ,Correctness:  0.689 )\n",
      "Epoch 1300 : (Loss:  0.6158620936930167 ,Correctness:  0.691 )\n",
      "Epoch 1400 : (Loss:  0.6156536140687296 ,Correctness:  0.691 )\n",
      "Epoch 1500 : (Loss:  0.6154535837168654 ,Correctness:  0.689 )\n",
      "Epoch 1600 : (Loss:  0.6152611914961362 ,Correctness:  0.689 )\n",
      "Epoch 1700 : (Loss:  0.6150757857733288 ,Correctness:  0.689 )\n",
      "Epoch 1800 : (Loss:  0.6148968328795321 ,Correctness:  0.691 )\n",
      "Epoch 1900 : (Loss:  0.6147238880312853 ,Correctness:  0.692 )\n",
      "Epoch 2000 : (Loss:  0.6145565745534659 ,Correctness:  0.694 )\n",
      "Epoch 2100 : (Loss:  0.6143945687517568 ,Correctness:  0.694 )\n",
      "Epoch 2200 : (Loss:  0.6142375887089397 ,Correctness:  0.695 )\n",
      "Epoch 2300 : (Loss:  0.6140853858594812 ,Correctness:  0.694 )\n",
      "Epoch 2400 : (Loss:  0.6139377385672465 ,Correctness:  0.697 )\n",
      "Epoch 2500 : (Loss:  0.6137944471718801 ,Correctness:  0.697 )\n",
      "Epoch 2600 : (Loss:  0.6136553301285527 ,Correctness:  0.699 )\n",
      "Epoch 2700 : (Loss:  0.6135202209728254 ,Correctness:  0.699 )\n",
      "Epoch 2800 : (Loss:  0.6133889659156685 ,Correctness:  0.700 )\n",
      "Epoch 2900 : (Loss:  0.6132614219246971 ,Correctness:  0.700 )\n",
      "Epoch 3000 : (Loss:  0.6131374551838475 ,Correctness:  0.700 )\n",
      "Epoch 3100 : (Loss:  0.6130169398497736 ,Correctness:  0.700 )\n",
      "Epoch 3200 : (Loss:  0.61289975704231 ,Correctness:  0.700 )\n",
      "Epoch 3300 : (Loss:  0.6127857940205352 ,Correctness:  0.700 )\n",
      "Epoch 3400 : (Loss:  0.6126749435066208 ,Correctness:  0.702 )\n",
      "Epoch 3500 : (Loss:  0.6125671031278079 ,Correctness:  0.702 )\n",
      "Epoch 3600 : (Loss:  0.6124621749530889 ,Correctness:  0.702 )\n",
      "Epoch 3700 : (Loss:  0.6123600651060472 ,Correctness:  0.702 )\n",
      "Epoch 3800 : (Loss:  0.612260683439099 ,Correctness:  0.700 )\n",
      "Epoch 3900 : (Loss:  0.6121639432573699 ,Correctness:  0.702 )\n",
      "Epoch 4000 : (Loss:  0.6120697610828051 ,Correctness:  0.704 )\n",
      "Epoch 4100 : (Loss:  0.6119780564509769 ,Correctness:  0.704 )\n",
      "Epoch 4200 : (Loss:  0.611888751734552 ,Correctness:  0.704 )\n",
      "Epoch 4300 : (Loss:  0.6118017719885639 ,Correctness:  0.702 )\n",
      "Epoch 4400 : (Loss:  0.6117170448135868 ,Correctness:  0.702 )\n",
      "Epoch 4500 : (Loss:  0.6116345002336713 ,Correctness:  0.700 )\n",
      "Epoch 4600 : (Loss:  0.6115540705865045 ,Correctness:  0.702 )\n",
      "Epoch 4700 : (Loss:  0.6114756904237535 ,Correctness:  0.702 )\n",
      "Epoch 4800 : (Loss:  0.6113992964199375 ,Correctness:  0.702 )\n",
      "Epoch 4900 : (Loss:  0.6113248272884917 ,Correctness:  0.702 )\n",
      "Epoch 5000 : (Loss:  0.6112522237039368 ,Correctness:  0.704 )\n"
     ]
    }
   ],
   "source": [
    "lr = 1e-4\n",
    "epochs = 5000\n",
    "\n",
    "#initializing model\n",
    "model = LogReg(lr,epochs)\n",
    "\n",
    "#model fitting/training\n",
    "model.fit(X_train,y_train)"
   ]
  },
  {
   "cell_type": "code",
   "execution_count": 15,
   "metadata": {},
   "outputs": [
    {
     "name": "stdout",
     "output_type": "stream",
     "text": [
      "104 / 154 ( 67.53 %)\n"
     ]
    }
   ],
   "source": [
    "#prediction\n",
    "y_pred = model.prediction(X_test)\n",
    "\n",
    "#accuracy calculation\n",
    "corr = np.sum(y_pred==y_test)\n",
    "total = len(y_test)\n",
    "\n",
    "print(corr,'/',total,'(',format((corr/total)*100,\"0.2f\"),'%)')"
   ]
  },
  {
   "cell_type": "code",
   "execution_count": 17,
   "metadata": {},
   "outputs": [
    {
     "data": {
      "image/png": "[encoded data removed]",
      "text/plain": [
       "<Figure size 432x288 with 1 Axes>"
      ]
     },
     "metadata": {
      "needs_background": "light"
     },
     "output_type": "display_data"
    }
   ],
   "source": [
    "plt.plot(range(0,epochs+1,100),model.loss,'ko-',markersize=3)\n",
    "plt.xlabel('Epochs')\n",
    "plt.plot(range(0,epochs+1,100),model.acc,'rD-',markersize= 3)\n",
    "plt.legend(['Loss','Accuracy'])\n",
    "\n",
    "plt.savefig(\"img/error_acc_plot.jpg\")"
   ]
  },
  {
   "cell_type": "code",
   "execution_count": 19,
   "metadata": {},
   "outputs": [
    {
     "data": {
      "text/plain": [
       "0.7035830618892508"
      ]
     },
     "execution_count": 19,
     "metadata": {},
     "output_type": "execute_result"
    }
   ],
   "source": [
    "model.acc.max()"
   ]
  }
 ],
 "metadata": {
  "kernelspec": {
   "display_name": "Python 3.9.5 64-bit",
   "language": "python",
   "name": "python3"
  },
  "language_info": {
   "codemirror_mode": {
    "name": "ipython",
    "version": 3
   },
   "file_extension": ".py",
   "mimetype": "text/x-python",
   "name": "python",
   "nbconvert_exporter": "python",
   "pygments_lexer": "ipython3",
   "version": "3.9.5"
  },
  "orig_nbformat": 4,
  "vscode": {
   "interpreter": {
    "hash": "8f8cf99212f81ad0c4765861267244807ee1c18364846cdce387b28994a977ba"
   }
  }
 },
 "nbformat": 4,
 "nbformat_minor": 2
}
